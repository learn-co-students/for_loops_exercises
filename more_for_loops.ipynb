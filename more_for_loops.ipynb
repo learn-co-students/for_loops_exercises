{
 "cells": [
  {
   "cell_type": "markdown",
   "metadata": {},
   "source": [
    "# More For Loop Practice"
   ]
  },
  {
   "cell_type": "code",
   "execution_count": 55,
   "metadata": {},
   "outputs": [
    {
     "data": {
      "text/html": [
       "<div>\n",
       "<style scoped>\n",
       "    .dataframe tbody tr th:only-of-type {\n",
       "        vertical-align: middle;\n",
       "    }\n",
       "\n",
       "    .dataframe tbody tr th {\n",
       "        vertical-align: top;\n",
       "    }\n",
       "\n",
       "    .dataframe thead th {\n",
       "        text-align: right;\n",
       "    }\n",
       "</style>\n",
       "<table border=\"1\" class=\"dataframe\">\n",
       "  <thead>\n",
       "    <tr style=\"text-align: right;\">\n",
       "      <th></th>\n",
       "      <th>Rank</th>\n",
       "      <th>Game Title</th>\n",
       "      <th>Platform</th>\n",
       "      <th>Year</th>\n",
       "      <th>Genre</th>\n",
       "      <th>Publisher</th>\n",
       "      <th>North America</th>\n",
       "      <th>Europe</th>\n",
       "      <th>Japan</th>\n",
       "      <th>Rest of World</th>\n",
       "      <th>Global</th>\n",
       "      <th>Review</th>\n",
       "    </tr>\n",
       "  </thead>\n",
       "  <tbody>\n",
       "    <tr>\n",
       "      <th>0</th>\n",
       "      <td>1</td>\n",
       "      <td>Wii Sports</td>\n",
       "      <td>Wii</td>\n",
       "      <td>2006.0</td>\n",
       "      <td>Sports</td>\n",
       "      <td>Nintendo</td>\n",
       "      <td>40.43</td>\n",
       "      <td>28.39</td>\n",
       "      <td>3.77</td>\n",
       "      <td>8.54</td>\n",
       "      <td>81.12</td>\n",
       "      <td>76.28</td>\n",
       "    </tr>\n",
       "    <tr>\n",
       "      <th>1</th>\n",
       "      <td>2</td>\n",
       "      <td>Super Mario Bros.</td>\n",
       "      <td>NES</td>\n",
       "      <td>1985.0</td>\n",
       "      <td>Platform</td>\n",
       "      <td>Nintendo</td>\n",
       "      <td>29.08</td>\n",
       "      <td>3.58</td>\n",
       "      <td>6.81</td>\n",
       "      <td>0.77</td>\n",
       "      <td>40.24</td>\n",
       "      <td>91.00</td>\n",
       "    </tr>\n",
       "    <tr>\n",
       "      <th>2</th>\n",
       "      <td>3</td>\n",
       "      <td>Mario Kart Wii</td>\n",
       "      <td>Wii</td>\n",
       "      <td>2008.0</td>\n",
       "      <td>Racing</td>\n",
       "      <td>Nintendo</td>\n",
       "      <td>14.50</td>\n",
       "      <td>12.22</td>\n",
       "      <td>3.63</td>\n",
       "      <td>3.21</td>\n",
       "      <td>33.55</td>\n",
       "      <td>82.07</td>\n",
       "    </tr>\n",
       "    <tr>\n",
       "      <th>3</th>\n",
       "      <td>4</td>\n",
       "      <td>Wii Sports Resort</td>\n",
       "      <td>Wii</td>\n",
       "      <td>2009.0</td>\n",
       "      <td>Sports</td>\n",
       "      <td>Nintendo</td>\n",
       "      <td>14.82</td>\n",
       "      <td>10.51</td>\n",
       "      <td>3.18</td>\n",
       "      <td>3.01</td>\n",
       "      <td>31.52</td>\n",
       "      <td>82.65</td>\n",
       "    </tr>\n",
       "    <tr>\n",
       "      <th>4</th>\n",
       "      <td>5</td>\n",
       "      <td>Tetris</td>\n",
       "      <td>GB</td>\n",
       "      <td>1989.0</td>\n",
       "      <td>Puzzle</td>\n",
       "      <td>Nintendo</td>\n",
       "      <td>23.20</td>\n",
       "      <td>2.26</td>\n",
       "      <td>4.22</td>\n",
       "      <td>0.58</td>\n",
       "      <td>30.26</td>\n",
       "      <td>88.00</td>\n",
       "    </tr>\n",
       "  </tbody>\n",
       "</table>\n",
       "</div>"
      ],
      "text/plain": [
       "   Rank         Game Title Platform    Year     Genre Publisher  \\\n",
       "0     1         Wii Sports      Wii  2006.0    Sports  Nintendo   \n",
       "1     2  Super Mario Bros.      NES  1985.0  Platform  Nintendo   \n",
       "2     3     Mario Kart Wii      Wii  2008.0    Racing  Nintendo   \n",
       "3     4  Wii Sports Resort      Wii  2009.0    Sports  Nintendo   \n",
       "4     5             Tetris       GB  1989.0    Puzzle  Nintendo   \n",
       "\n",
       "   North America  Europe  Japan  Rest of World  Global  Review  \n",
       "0          40.43   28.39   3.77           8.54   81.12   76.28  \n",
       "1          29.08    3.58   6.81           0.77   40.24   91.00  \n",
       "2          14.50   12.22   3.63           3.21   33.55   82.07  \n",
       "3          14.82   10.51   3.18           3.01   31.52   82.65  \n",
       "4          23.20    2.26   4.22           0.58   30.26   88.00  "
      ]
     },
     "execution_count": 55,
     "metadata": {},
     "output_type": "execute_result"
    }
   ],
   "source": [
    "# Run without changes\n",
    "import pandas as pd\n",
    "import numpy as np\n",
    "\n",
    "data = pd.read_excel('data/Video Games Sales.xlsx').dropna()\n",
    "data.head()"
   ]
  },
  {
   "cell_type": "markdown",
   "metadata": {},
   "source": [
    "# New Activities"
   ]
  },
  {
   "cell_type": "markdown",
   "metadata": {},
   "source": [
    "## Task 1: More Loops"
   ]
  },
  {
   "cell_type": "markdown",
   "metadata": {},
   "source": [
    "How many Sports and Racing Games in the dataset?"
   ]
  },
  {
   "cell_type": "code",
   "execution_count": 52,
   "metadata": {},
   "outputs": [],
   "source": [
    "genres = list(data['Genre'])"
   ]
  },
  {
   "cell_type": "markdown",
   "metadata": {},
   "source": [
    "### Task 2: Zipping\n",
    "\n",
    "Create a list of names of games which have a review greater than or equal to 90.0."
   ]
  },
  {
   "cell_type": "code",
   "execution_count": 34,
   "metadata": {},
   "outputs": [],
   "source": [
    "titles = list(data['Game Title'])\n",
    "reviews = list(data['Review'])"
   ]
  },
  {
   "cell_type": "markdown",
   "metadata": {},
   "source": [
    "## Task 3: Dictionaries\n",
    "\n",
    "Create a dictionary where each key is a score category: 'high', 'medium', 'low', and the values are the game names that fit into each category.  \n",
    "- High:   r >= 90.0\n",
    "- Medium: 70 <= r < 90\n",
    "- Low:    r < 70 "
   ]
  },
  {
   "cell_type": "code",
   "execution_count": null,
   "metadata": {},
   "outputs": [],
   "source": [
    "    "
   ]
  },
  {
   "cell_type": "markdown",
   "metadata": {},
   "source": [
    "### Task 4: Dictionaries\n",
    "\n",
    "Create a dictionary which has Publisher as keys and a second dictionary as values. The second dictionary should have genre as keys and the count of each genre as values.\n"
   ]
  },
  {
   "cell_type": "code",
   "execution_count": 35,
   "metadata": {},
   "outputs": [],
   "source": [
    "# Run cell with no changes\n",
    "\n",
    "# Loop over these lists\n",
    "genres = list(data['Genre'])\n",
    "publishers = list(data['Publisher'])\n",
    "\n"
   ]
  },
  {
   "cell_type": "code",
   "execution_count": 36,
   "metadata": {},
   "outputs": [],
   "source": [
    "# Replace None with the appropriate value\n",
    "\n",
    "publisher_genre_counts = None\n",
    "\n",
    "# your code here\n"
   ]
  },
  {
   "cell_type": "code",
   "execution_count": 37,
   "metadata": {},
   "outputs": [],
   "source": [
    "#__SOLUTION__\n",
    "# unique publishers\n",
    "unique_publishers = set(publishers)\n",
    "\n",
    "unique_genres = set(genres)\n",
    "\n",
    "publisher_genre_counts = {pub:{gen:0 for gen in unique_genres}\n",
    "                          for pub in unique_publishers} \n",
    "\n",
    "for g, p in zip(genres, publishers):\n",
    "    publisher_genre_counts[p][g] += 1"
   ]
  },
  {
   "cell_type": "code",
   "execution_count": 38,
   "metadata": {},
   "outputs": [
    {
     "name": "stdout",
     "output_type": "stream",
     "text": [
      "You have the correct counts for genres per platform\n"
     ]
    }
   ],
   "source": [
    "assert publisher_genre_counts['Nintendo']['Role-Playing'] == 38\n",
    "assert publisher_genre_counts['Electronic Arts']['Action'] == 22\n",
    "print('You have the correct counts for genres per platform')"
   ]
  },
  {
   "cell_type": "code",
   "execution_count": null,
   "metadata": {},
   "outputs": [],
   "source": []
  }
 ],
 "metadata": {
  "kernelspec": {
   "display_name": "learn-env",
   "language": "python",
   "name": "learn-env"
  },
  "language_info": {
   "codemirror_mode": {
    "name": "ipython",
    "version": 3
   },
   "file_extension": ".py",
   "mimetype": "text/x-python",
   "name": "python",
   "nbconvert_exporter": "python",
   "pygments_lexer": "ipython3",
   "version": "3.8.5"
  }
 },
 "nbformat": 4,
 "nbformat_minor": 4
}
